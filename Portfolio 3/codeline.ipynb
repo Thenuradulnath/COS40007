{
 "cells": [
  {
   "cell_type": "code",
   "execution_count": null,
   "metadata": {},
   "outputs": [],
   "source": [
    "import pandas as pd\n",
    "\n",
    "# Load the datasets\n",
    "boning_df = pd.read_csv('ampc2\\Boning.csv')\n",
    "slicing_df = pd.read_csv('ampc2\\Slicing.csv')\n",
    "\n",
    "# Extract the relevant columns based on your student ID (103512993 -> ends with 3)\n",
    "columns_to_extract = ['Frame', \n",
    "                      'Right_Forearm_x', 'Right_Forearm_y', 'Right_Forearm_z', \n",
    "                      'Left_Forearm_x', 'Left_Forearm_y', 'Left_Forearm_z']\n",
    "\n",
    "# Extract relevant columns and add the class labels\n",
    "boning_df = boning_df[columns_to_extract]\n",
    "slicing_df = slicing_df[columns_to_extract]\n",
    "\n",
    "# Add class labels (0 for boning, 1 for slicing)\n",
    "boning_df['Class'] = 0\n",
    "slicing_df['Class'] = 1\n",
    "\n",
    "# Combine the datasets\n",
    "combined_df = pd.concat([boning_df, slicing_df], ignore_index=True)\n",
    "\n",
    "# Display the combined dataset\n",
    "combined_df.head()\n"
   ]
  }
 ],
 "metadata": {
  "language_info": {
   "name": "python"
  }
 },
 "nbformat": 4,
 "nbformat_minor": 2
}
